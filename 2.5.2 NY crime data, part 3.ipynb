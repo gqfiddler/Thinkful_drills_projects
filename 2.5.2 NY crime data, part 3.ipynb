{
 "cells": [
  {
   "cell_type": "markdown",
   "metadata": {},
   "source": [
    "# Validating regression models for prediction\n",
    "Statistical tests are useful for making sure a model is a good fit to the test data, and that all the features are useful to the model. However, to make sure a model has good predictive validity for new data, it is necessary to assess the performance of the model on new datasets.\n",
    "\n",
    "The procedure is the same as what you learned in the Naive Bayes lesson – the holdout method and cross-validation method are both available. You've already had experience writing code to run these kinds of validation models for Naive Bayes: now you can try it again with linear regression. In this case, your goal is to achieve a model with a consistent R2 and only statistically significant parameters across multiple samples.\n",
    "\n",
    "We'll use the property crime model you've been working on with, based on the FBI:UCR data. Since your model formulation to date has used the entire New York State 2013 dataset, you'll need to validate it using some of the other crime datasets available at the FBI:UCR website. Options include other states crime rates in 2013 or crime rates in New York State in other years or a combination of these.\n",
    "\n",
    "# Iterate\n",
    "Based on the results of your validation test, create a revised model, and then test both old and new models on a new holdout or set of folds.\n",
    "\n",
    "Include your model(s) and a brief writeup of the reasoning behind the validation method you chose and the changes you made to submit and review with your mentor."
   ]
  },
  {
   "cell_type": "markdown",
   "metadata": {},
   "source": [
    "# Load and clean data"
   ]
  },
  {
   "cell_type": "code",
   "execution_count": 17,
   "metadata": {},
   "outputs": [],
   "source": [
    "import pandas as pd\n",
    "import seaborn as sns\n",
    "from matplotlib import pyplot as plt\n",
    "import numpy as np\n",
    "import statsmodels.formula.api as smf\n",
    "from statsmodels.sandbox.regression.predstd import wls_prediction_std\n",
    "\n",
    "%matplotlib inline\n",
    "sns.set()"
   ]
  },
  {
   "cell_type": "code",
   "execution_count": 2,
   "metadata": {
    "scrolled": false
   },
   "outputs": [],
   "source": [
    "from clean import clean\n",
    "\n",
    "c2013_df = clean(pd.read_csv(\"NYC_2013_crime.csv\"))\n",
    "# 2014 data has an extra column \"Unnamed: 13\" full of NaNs; we'll drop it.\n",
    "c2014_df = clean(pd.read_csv(\"NYC_2014_crime.csv\").drop(\"Unnamed: 13\", axis=1))"
   ]
  },
  {
   "cell_type": "markdown",
   "metadata": {},
   "source": [
    "To confirm that the datasets are similar, I'll print out the percentage change in the statistics for each colummn."
   ]
  },
  {
   "cell_type": "code",
   "execution_count": 3,
   "metadata": {},
   "outputs": [
    {
     "name": "stdout",
     "output_type": "stream",
     "text": [
      "       Population  violent_crime    Murder   Robbery  agg_assault  prop_crime  \\\n",
      "count   -0.058309      -0.058309 -0.058309 -0.058309    -0.058309   -0.058309   \n",
      "mean     0.069012       0.059734  0.065149  0.086991     0.088678    0.149999   \n",
      "std      0.012731       0.023627  0.111865  0.057528     0.043925    0.054538   \n",
      "min      0.849810            NaN       NaN       NaN          NaN         NaN   \n",
      "25%      0.124937       0.500000       NaN       NaN     1.000000    0.371795   \n",
      "50%      0.095634       0.166667       NaN  0.000000     0.250000    0.324324   \n",
      "75%      0.142994       0.195122       NaN  0.111111     0.153846    0.229042   \n",
      "max     -0.004768      -0.013906  0.200000 -0.087719     0.043726    0.049389   \n",
      "\n",
      "       Burglary   Larceny  mv_theft     Arson  \n",
      "count -0.058309 -0.058309 -0.058309 -0.058309  \n",
      "mean   0.196087  0.142460  0.098631 -0.958641  \n",
      "std    0.132767  0.036730  0.030499 -0.332784  \n",
      "min         NaN       NaN       NaN       NaN  \n",
      "25%    0.333333  0.354839       NaN       NaN  \n",
      "50%    0.294118  0.365591  0.000000       NaN  \n",
      "75%    0.232323  0.239051  0.076923      -inf  \n",
      "max    0.111834  0.049337 -0.026144  0.136364  \n"
     ]
    }
   ],
   "source": [
    "print( (c2013_df.describe() - c2014_df.describe()) / c2013_df.describe() )"
   ]
  },
  {
   "cell_type": "markdown",
   "metadata": {},
   "source": [
    "Looking at the percentage changes in the means of the columns above, we can see that all of these changes look small and feasible exxcept for the 68% drop in arson.  Given the likelihood that this represents a difference in reporting, we'll drop the arson column.  Otherwise, the data all looks similar, so we'll go ahead and combine the two years for a larger dataset."
   ]
  },
  {
   "cell_type": "code",
   "execution_count": 4,
   "metadata": {
    "scrolled": true
   },
   "outputs": [
    {
     "data": {
      "text/html": [
       "<div>\n",
       "<style scoped>\n",
       "    .dataframe tbody tr th:only-of-type {\n",
       "        vertical-align: middle;\n",
       "    }\n",
       "\n",
       "    .dataframe tbody tr th {\n",
       "        vertical-align: top;\n",
       "    }\n",
       "\n",
       "    .dataframe thead th {\n",
       "        text-align: right;\n",
       "    }\n",
       "</style>\n",
       "<table border=\"1\" class=\"dataframe\">\n",
       "  <thead>\n",
       "    <tr style=\"text-align: right;\">\n",
       "      <th></th>\n",
       "      <th>City</th>\n",
       "      <th>Population</th>\n",
       "      <th>violent_crime</th>\n",
       "      <th>Murder</th>\n",
       "      <th>Robbery</th>\n",
       "      <th>agg_assault</th>\n",
       "      <th>prop_crime</th>\n",
       "      <th>Burglary</th>\n",
       "      <th>Larceny</th>\n",
       "      <th>mv_theft</th>\n",
       "      <th>Year</th>\n",
       "    </tr>\n",
       "  </thead>\n",
       "  <tbody>\n",
       "    <tr>\n",
       "      <th>0</th>\n",
       "      <td>Adams Village</td>\n",
       "      <td>1861</td>\n",
       "      <td>0</td>\n",
       "      <td>0</td>\n",
       "      <td>0</td>\n",
       "      <td>0</td>\n",
       "      <td>12</td>\n",
       "      <td>2</td>\n",
       "      <td>10</td>\n",
       "      <td>0</td>\n",
       "      <td>2013</td>\n",
       "    </tr>\n",
       "    <tr>\n",
       "      <th>0</th>\n",
       "      <td>Adams Village</td>\n",
       "      <td>1851</td>\n",
       "      <td>0</td>\n",
       "      <td>0</td>\n",
       "      <td>0</td>\n",
       "      <td>0</td>\n",
       "      <td>11</td>\n",
       "      <td>1</td>\n",
       "      <td>10</td>\n",
       "      <td>0</td>\n",
       "      <td>2014</td>\n",
       "    </tr>\n",
       "    <tr>\n",
       "      <th>1</th>\n",
       "      <td>Addison Town and Village</td>\n",
       "      <td>2568</td>\n",
       "      <td>2</td>\n",
       "      <td>0</td>\n",
       "      <td>1</td>\n",
       "      <td>1</td>\n",
       "      <td>49</td>\n",
       "      <td>1</td>\n",
       "      <td>47</td>\n",
       "      <td>1</td>\n",
       "      <td>2014</td>\n",
       "    </tr>\n",
       "    <tr>\n",
       "      <th>1</th>\n",
       "      <td>Addison Town and Village</td>\n",
       "      <td>2577</td>\n",
       "      <td>3</td>\n",
       "      <td>0</td>\n",
       "      <td>0</td>\n",
       "      <td>3</td>\n",
       "      <td>24</td>\n",
       "      <td>3</td>\n",
       "      <td>20</td>\n",
       "      <td>1</td>\n",
       "      <td>2013</td>\n",
       "    </tr>\n",
       "    <tr>\n",
       "      <th>2</th>\n",
       "      <td>Afton Village4</td>\n",
       "      <td>820</td>\n",
       "      <td>0</td>\n",
       "      <td>0</td>\n",
       "      <td>0</td>\n",
       "      <td>0</td>\n",
       "      <td>1</td>\n",
       "      <td>0</td>\n",
       "      <td>1</td>\n",
       "      <td>0</td>\n",
       "      <td>2014</td>\n",
       "    </tr>\n",
       "  </tbody>\n",
       "</table>\n",
       "</div>"
      ],
      "text/plain": [
       "                       City  Population  violent_crime  Murder  Robbery  \\\n",
       "0             Adams Village        1861              0       0        0   \n",
       "0             Adams Village        1851              0       0        0   \n",
       "1  Addison Town and Village        2568              2       0        1   \n",
       "1  Addison Town and Village        2577              3       0        0   \n",
       "2            Afton Village4         820              0       0        0   \n",
       "\n",
       "   agg_assault  prop_crime  Burglary  Larceny  mv_theft  Year  \n",
       "0            0          12         2       10         0  2013  \n",
       "0            0          11         1       10         0  2014  \n",
       "1            1          49         1       47         1  2014  \n",
       "1            3          24         3       20         1  2013  \n",
       "2            0           1         0        1         0  2014  "
      ]
     },
     "execution_count": 4,
     "metadata": {},
     "output_type": "execute_result"
    }
   ],
   "source": [
    "c2013_df[\"Year\"] = 2013\n",
    "c2014_df[\"Year\"] = 2014\n",
    "crime_df = c2013_df.append(c2014_df)\n",
    "crime_df.drop(\"Arson\", axis=1, inplace=True)\n",
    "crime_df.sort_values(\"City\").head()"
   ]
  },
  {
   "cell_type": "code",
   "execution_count": 5,
   "metadata": {},
   "outputs": [
    {
     "data": {
      "text/html": [
       "<div>\n",
       "<style scoped>\n",
       "    .dataframe tbody tr th:only-of-type {\n",
       "        vertical-align: middle;\n",
       "    }\n",
       "\n",
       "    .dataframe tbody tr th {\n",
       "        vertical-align: top;\n",
       "    }\n",
       "\n",
       "    .dataframe thead th {\n",
       "        text-align: right;\n",
       "    }\n",
       "</style>\n",
       "<table border=\"1\" class=\"dataframe\">\n",
       "  <thead>\n",
       "    <tr style=\"text-align: right;\">\n",
       "      <th></th>\n",
       "      <th>City</th>\n",
       "      <th>Population</th>\n",
       "      <th>violent_crime</th>\n",
       "      <th>Murder</th>\n",
       "      <th>Robbery</th>\n",
       "      <th>agg_assault</th>\n",
       "      <th>prop_crime</th>\n",
       "      <th>Burglary</th>\n",
       "      <th>Larceny</th>\n",
       "      <th>mv_theft</th>\n",
       "      <th>Year</th>\n",
       "    </tr>\n",
       "  </thead>\n",
       "  <tbody>\n",
       "    <tr>\n",
       "      <th>7</th>\n",
       "      <td>Amherst Town</td>\n",
       "      <td>118296</td>\n",
       "      <td>107</td>\n",
       "      <td>1</td>\n",
       "      <td>31</td>\n",
       "      <td>68</td>\n",
       "      <td>2118</td>\n",
       "      <td>204</td>\n",
       "      <td>1882</td>\n",
       "      <td>32</td>\n",
       "      <td>2013</td>\n",
       "    </tr>\n",
       "    <tr>\n",
       "      <th>9</th>\n",
       "      <td>Amherst Town4</td>\n",
       "      <td>118860</td>\n",
       "      <td>128</td>\n",
       "      <td>1</td>\n",
       "      <td>43</td>\n",
       "      <td>68</td>\n",
       "      <td>2066</td>\n",
       "      <td>176</td>\n",
       "      <td>1846</td>\n",
       "      <td>44</td>\n",
       "      <td>2014</td>\n",
       "    </tr>\n",
       "  </tbody>\n",
       "</table>\n",
       "</div>"
      ],
      "text/plain": [
       "            City  Population  violent_crime  Murder  Robbery  agg_assault  \\\n",
       "7   Amherst Town      118296            107       1       31           68   \n",
       "9  Amherst Town4      118860            128       1       43           68   \n",
       "\n",
       "   prop_crime  Burglary  Larceny  mv_theft  Year  \n",
       "7        2118       204     1882        32  2013  \n",
       "9        2066       176     1846        44  2014  "
      ]
     },
     "execution_count": 5,
     "metadata": {},
     "output_type": "execute_result"
    }
   ],
   "source": [
    "crime_df[crime_df[\"Population\"]>100000]"
   ]
  },
  {
   "cell_type": "markdown",
   "metadata": {},
   "source": [
    "# Running the model"
   ]
  },
  {
   "cell_type": "markdown",
   "metadata": {},
   "source": [
    "In my previous model, I predicted violent crime rates from the population and the specific nonviolent crime statistics of burglary, larceny, and motor vehicle theft.  The model yielded an r-score of just over .8, and relied primarily on motor vehicle theft and secondarily on burglary to generate this prediction.\n",
    "\n",
    "To begin here, I'll run the model as it was."
   ]
  },
  {
   "cell_type": "code",
   "execution_count": 6,
   "metadata": {},
   "outputs": [],
   "source": [
    "# randomly select 30% of rows as CV set\n",
    "from sklearn.model_selection import train_test_split\n",
    "y = crime_df[\"violent_crime\"]\n",
    "X_train, X_cv, y_train, y_cv = train_test_split(crime_df[[\"Population\",\"Burglary\",\"Larceny\",\"mv_theft\"]], y, test_size=0.3)"
   ]
  },
  {
   "cell_type": "code",
   "execution_count": 7,
   "metadata": {},
   "outputs": [
    {
     "name": "stderr",
     "output_type": "stream",
     "text": [
      "/usr/local/lib/python3.6/site-packages/scipy/linalg/basic.py:1226: RuntimeWarning: internal gelsd driver lwork query error, required iwork dimension not returned. This is likely the result of LAPACK bug 0038, fixed in LAPACK 3.2.2 (released July 21, 2010). Falling back to 'gelss' driver.\n",
      "  warnings.warn(mesg, RuntimeWarning)\n"
     ]
    },
    {
     "name": "stdout",
     "output_type": "stream",
     "text": [
      "0.8588237901210491\n",
      "[-2.54968303e-04  5.08205715e-01 -2.64771868e-02  2.39681379e+00]\n"
     ]
    }
   ],
   "source": [
    "# run the model repeatedly to generate typical outcome regardless of random data division (because dataset is small)\n",
    "def regtest(crime_df):\n",
    "    # randomly select 30% of rows as CV\n",
    "    y = crime_df[\"violent_crime\"]\n",
    "    X_train, X_cv, y_train, y_cv = train_test_split(crime_df[[\"Population\",\"Burglary\",\"Larceny\",\"mv_theft\"]], y, test_size=0.3)\n",
    "\n",
    "    from sklearn import linear_model\n",
    "    rModel = linear_model.LinearRegression(normalize=True)\n",
    "    rModel.fit(X_train, y_train)\n",
    "    return rModel.coef_, rModel.score(X_cv, y_cv)\n",
    "\n",
    "rcoefs = []\n",
    "rscores = []\n",
    "for i in range(200):\n",
    "    coef, score = regtest(crime_df)\n",
    "    rscores.append(score)\n",
    "    rcoefs.append(coef)\n",
    "print(sum(rscores)/len(rscores))\n",
    "print(sum(rcoefs)/len(rcoefs))"
   ]
  },
  {
   "cell_type": "markdown",
   "metadata": {},
   "source": [
    "This R-squared value already represents a roughly .5 improvement on the previous outcomes, simply because I have twice the data to work with.\n",
    "\n",
    "We can also eliminate the population column, which has the lowest coefficient after normalization, and get basically the same R-value (to three digits):"
   ]
  },
  {
   "cell_type": "code",
   "execution_count": 8,
   "metadata": {
    "scrolled": true
   },
   "outputs": [
    {
     "name": "stdout",
     "output_type": "stream",
     "text": [
      "0.8601260778565865\n",
      "[ 0.53033391 -0.03749037  2.3397393 ]\n"
     ]
    }
   ],
   "source": [
    "# run the model repeatedly to generate typical outcome regardless of random data division (because dataset is small)\n",
    "def regtest(crime_df):\n",
    "    # randomly select 30% of rows as CV\n",
    "    y = crime_df[\"violent_crime\"]\n",
    "    X_train, X_cv, y_train, y_cv = train_test_split(crime_df[[\"Burglary\",\"Larceny\",\"mv_theft\"]], y, test_size=0.3)\n",
    "\n",
    "    from sklearn import linear_model\n",
    "    rModel = linear_model.LinearRegression(normalize=True)\n",
    "    rModel.fit(X_train, y_train)\n",
    "    return rModel.coef_, rModel.score(X_cv, y_cv)\n",
    "\n",
    "rcoefs = []\n",
    "rscores = []\n",
    "for i in range(200):\n",
    "    coef, score = regtest(crime_df)\n",
    "    rscores.append(score)\n",
    "    rcoefs.append(coef)\n",
    "print(sum(rscores)/len(rscores))\n",
    "print(sum(rcoefs)/len(rcoefs))"
   ]
  },
  {
   "cell_type": "markdown",
   "metadata": {},
   "source": [
    "# Evaluation\n",
    "\n",
    "We already have a fairly good R-squared of about 0.86.  Let's make sure our variable relations look linear:"
   ]
  },
  {
   "cell_type": "code",
   "execution_count": 18,
   "metadata": {
    "scrolled": true
   },
   "outputs": [
    {
     "data": {
      "image/png": "[encoded data removed]",
      "text/plain": [
       "<matplotlib.figure.Figure at 0x1139847f0>"
      ]
     },
     "metadata": {},
     "output_type": "display_data"
    }
   ],
   "source": [
    "plt.figure(figsize=(14, 4))\n",
    "plt.subplot(131)\n",
    "plt.scatter(crime_df[\"Burglary\"], crime_df[\"violent_crime\"])\n",
    "plt.subplot(132)\n",
    "plt.scatter(crime_df[\"Burglary\"], crime_df[\"violent_crime\"])\n",
    "\n",
    "plt.subplot(133)\n",
    "plt.scatter(crime_df[\"Burglary\"], crime_df[\"violent_crime\"])\n",
    "plt.show()"
   ]
  },
  {
   "cell_type": "markdown",
   "metadata": {},
   "source": [
    "So far so good!  Now let's take a look at our residuals:"
   ]
  },
  {
   "cell_type": "code",
   "execution_count": 32,
   "metadata": {
    "scrolled": true
   },
   "outputs": [
    {
     "name": "stdout",
     "output_type": "stream",
     "text": [
      "Built-in R-squared method: 0.8484378280413712\n",
      "Manual R-squared score: 0.895210436229336\n",
      "Strangely, these two are always slightly different, with no consistent margin or direction.  Why???\n"
     ]
    },
    {
     "data": {
      "image/png": "[encoded data removed]",
      "text/plain": [
       "<matplotlib.figure.Figure at 0x115091fd0>"
      ]
     },
     "metadata": {},
     "output_type": "display_data"
    },
    {
     "name": "stdout",
     "output_type": "stream",
     "text": [
      "F_onewayResult(statistic=2.0204263562078342e-31, pvalue=1.0)\n"
     ]
    }
   ],
   "source": [
    "y = crime_df[\"violent_crime\"]\n",
    "X_train, X_cv, y_train, y_cv = train_test_split(crime_df[[\"Burglary\",\"Larceny\",\"mv_theft\"]], y, test_size=0.3)\n",
    "\n",
    "from sklearn import linear_model\n",
    "rModel = linear_model.LinearRegression(normalize=True)\n",
    "rModel.fit(X_train, y_train)\n",
    "\n",
    "cv_df = pd.DataFrame(X_train)\n",
    "cv_df[\"violent_crime\"] = y_train\n",
    "cv_df[\"predicted_vc\"] = rModel.intercept_ + rModel.coef_[0]*cv_df[\"Burglary\"] + rModel.coef_[1]*cv_df[\"Larceny\"] + rModel.coef_[2]*cv_df[\"mv_theft\"]\n",
    "cv_df[\"residual\"] = cv_df[\"violent_crime\"] - cv_df[\"predicted_vc\"]\n",
    "\n",
    "import scipy as sp\n",
    "print(\"Built-in R-squared method: \" + str(rModel.score(X_cv, y_cv)))\n",
    "print(\"Manual R-squared score: \" + str(sp.stats.pearsonr(cv_df[\"violent_crime\"], cv_df[\"predicted_vc\"])[0]**2))\n",
    "print(\"Strangely, these two are always slightly different, with no consistent margin or direction.  Why???\")\n",
    "\n",
    "plt.figure(figsize=(12,5))\n",
    "plt.xlabel(\"All residual value counts\")\n",
    "plt.subplot(121)\n",
    "sns.distplot(cv_df[\"residual\"], bins=20)\n",
    "plt.subplot(122)\n",
    "plt.xlabel(\"Residual value counts abs < 50\")\n",
    "sns.distplot(cv_df[abs(cv_df[\"residual\"])<50][\"residual\"], bins=20)\n",
    "plt.show()\n",
    "\n",
    "import scipy.stats as stats\n",
    "print(stats.f_oneway(cv_df[\"predicted_vc\"], cv_df[\"violent_crime\"]))"
   ]
  },
  {
   "cell_type": "markdown",
   "metadata": {},
   "source": [
    "The residuals look pretty normally distributed, aside from a few outliers – another good sign.  How about the residuals vs y-values?  (i.e., checking for heteroscedacicity)"
   ]
  },
  {
   "cell_type": "code",
   "execution_count": 21,
   "metadata": {
    "scrolled": true
   },
   "outputs": [
    {
     "data": {
      "image/png": "[encoded data removed]",
      "text/plain": [
       "<matplotlib.figure.Figure at 0x113886208>"
      ]
     },
     "metadata": {},
     "output_type": "display_data"
    }
   ],
   "source": [
    "plt.scatter(cv_df[\"predicted_vc\"], cv_df[\"residual\"])\n",
    "plt.axhline(y=0)\n",
    "plt.title('Residual vs. Predicted')\n",
    "plt.show()"
   ]
  },
  {
   "cell_type": "markdown",
   "metadata": {},
   "source": [
    "We definitely see some heteroscedasticity here - which is also evident in the scatterplots of the original data above.  There are larger residuals for the larger cities with more crime.  For small cities, the errors are all small.  This heteroscedasticity is intrinsic to the data and isn't stopping us from getting a good R-squared value, so we needn't overhaul the model just because of it.\n",
    "\n",
    "Overall, this is a pretty effective model."
   ]
  }
 ],
 "metadata": {
  "kernelspec": {
   "display_name": "Python 3",
   "language": "python",
   "name": "python3"
  },
  "language_info": {
   "codemirror_mode": {
    "name": "ipython",
    "version": 3
   },
   "file_extension": ".py",
   "mimetype": "text/x-python",
   "name": "python",
   "nbconvert_exporter": "python",
   "pygments_lexer": "ipython3",
   "version": "3.6.4"
  }
 },
 "nbformat": 4,
 "nbformat_minor": 2
}
